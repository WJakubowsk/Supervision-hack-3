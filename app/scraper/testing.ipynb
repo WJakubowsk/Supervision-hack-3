{
 "cells": [
  {
   "cell_type": "code",
   "execution_count": 6,
   "metadata": {},
   "outputs": [],
   "source": [
    "import pandas as pd\n",
    "pd.set_option('display.max_colwidth', None)\n",
    "import requests\n",
    "import re\n",
    "import io\n",
    "from pdfminer.high_level import extract_text"
   ]
  },
  {
   "cell_type": "code",
   "execution_count": 6,
   "metadata": {},
   "outputs": [],
   "source": [
    "df_insurance_companies = pd.read_csv('../data/zaklady.csv', sep = ';')"
   ]
  },
  {
   "cell_type": "code",
   "execution_count": 7,
   "metadata": {},
   "outputs": [
    {
     "data": {
      "text/plain": [
       "'259400B0G3LJVFVZS942'"
      ]
     },
     "execution_count": 7,
     "metadata": {},
     "output_type": "execute_result"
    }
   ],
   "source": [
    "insurance_name = 'NATIONALE-NEDERLANDEN TUnŻ S.A.'\n",
    "df_insurance_companies.loc[df_insurance_companies['NAZWA ZAKŁADU'] == insurance_name, 'KOD LEI ZAKŁADU'].iloc[0]"
   ]
  },
  {
   "cell_type": "code",
   "execution_count": 78,
   "metadata": {},
   "outputs": [],
   "source": [
    "def save_scrf_file(pdf_file_url: str, company_code: str, company_name: str, company_url: str, destination_dir: str = './'):\n",
    "    \"\"\"\n",
    "    Saves a PDF file into a specified directory with the appropriate name of <[year]_SFCR_[company code]_[company name].pdf>.\n",
    "    Ignores the pdf files which are not related to the desired insurance company.\n",
    "    Extracts year information from the pdf_file_url. \n",
    "    \"\"\"\n",
    "    if company_url in pdf_file_url:\n",
    "        # get pdf content from the given url\n",
    "        response = requests.get(pdf_file_url)\n",
    "\n",
    "        # extract infromation about year (`unkown` if not found)\n",
    "        with io.BytesIO(response.content) as stream:\n",
    "            pdf_text = extract_text(stream)\n",
    "        print(pdf_text)\n",
    "        year_info = re.search(re.compile(r'\\b20\\d{2}\\b'), pdf_text)\n",
    "        year = year_info.group() if year_info is not None else 'unkown'\n",
    "        \n",
    "        # define the name of the pdf file according to the specified format\n",
    "        filename = f\"{year}_SFCR_{company_code}_{company_name}.pdf\"\n",
    "\n",
    "\n",
    "        if response.status_code == 200:\n",
    "            with open(destination_dir + filename, 'wb') as file:\n",
    "                file.write(response.content)\n",
    "        else:\n",
    "            print(\"Failed to download the file.\")\n",
    "    \n"
   ]
  },
  {
   "cell_type": "code",
   "execution_count": 79,
   "metadata": {},
   "outputs": [
    {
     "ename": "NameError",
     "evalue": "name 'extract_text' is not defined",
     "output_type": "error",
     "traceback": [
      "\u001b[1;31m---------------------------------------------------------------------------\u001b[0m",
      "\u001b[1;31mNameError\u001b[0m                                 Traceback (most recent call last)",
      "\u001b[1;32md:\\Wiktor\\hakatony\\Supervision-hack-3\\scraper\\testing.ipynb Cell 5\u001b[0m line \u001b[0;36m6\n\u001b[0;32m      <a href='vscode-notebook-cell:/d%3A/Wiktor/hakatony/Supervision-hack-3/scraper/testing.ipynb#W4sZmlsZQ%3D%3D?line=3'>4</a>\u001b[0m company_url \u001b[39m=\u001b[39m \u001b[39m'\u001b[39m\u001b[39mwww.nn.pl\u001b[39m\u001b[39m'\u001b[39m\n\u001b[0;32m      <a href='vscode-notebook-cell:/d%3A/Wiktor/hakatony/Supervision-hack-3/scraper/testing.ipynb#W4sZmlsZQ%3D%3D?line=4'>5</a>\u001b[0m destination_dir \u001b[39m=\u001b[39m \u001b[39m'\u001b[39m\u001b[39m../data/sfcr/\u001b[39m\u001b[39m'\u001b[39m\n\u001b[1;32m----> <a href='vscode-notebook-cell:/d%3A/Wiktor/hakatony/Supervision-hack-3/scraper/testing.ipynb#W4sZmlsZQ%3D%3D?line=5'>6</a>\u001b[0m save_scrf_file(pdf_file_url\u001b[39m=\u001b[39;49mpdf_file_url, \n\u001b[0;32m      <a href='vscode-notebook-cell:/d%3A/Wiktor/hakatony/Supervision-hack-3/scraper/testing.ipynb#W4sZmlsZQ%3D%3D?line=6'>7</a>\u001b[0m             company_code\u001b[39m=\u001b[39;49mcompany_code, company_name\u001b[39m=\u001b[39;49mcompany_name, \n\u001b[0;32m      <a href='vscode-notebook-cell:/d%3A/Wiktor/hakatony/Supervision-hack-3/scraper/testing.ipynb#W4sZmlsZQ%3D%3D?line=7'>8</a>\u001b[0m             company_url\u001b[39m=\u001b[39;49mcompany_url, destination_dir\u001b[39m=\u001b[39;49mdestination_dir)\n",
      "\u001b[1;32md:\\Wiktor\\hakatony\\Supervision-hack-3\\scraper\\testing.ipynb Cell 5\u001b[0m line \u001b[0;36m1\n\u001b[0;32m     <a href='vscode-notebook-cell:/d%3A/Wiktor/hakatony/Supervision-hack-3/scraper/testing.ipynb#W4sZmlsZQ%3D%3D?line=10'>11</a>\u001b[0m \u001b[39m# extract infromation about year (`unkown` if not found)\u001b[39;00m\n\u001b[0;32m     <a href='vscode-notebook-cell:/d%3A/Wiktor/hakatony/Supervision-hack-3/scraper/testing.ipynb#W4sZmlsZQ%3D%3D?line=11'>12</a>\u001b[0m \u001b[39mwith\u001b[39;00m io\u001b[39m.\u001b[39mBytesIO(response\u001b[39m.\u001b[39mcontent) \u001b[39mas\u001b[39;00m stream:\n\u001b[1;32m---> <a href='vscode-notebook-cell:/d%3A/Wiktor/hakatony/Supervision-hack-3/scraper/testing.ipynb#W4sZmlsZQ%3D%3D?line=12'>13</a>\u001b[0m     pdf_text \u001b[39m=\u001b[39m extract_text(stream)\n\u001b[0;32m     <a href='vscode-notebook-cell:/d%3A/Wiktor/hakatony/Supervision-hack-3/scraper/testing.ipynb#W4sZmlsZQ%3D%3D?line=13'>14</a>\u001b[0m \u001b[39mprint\u001b[39m(pdf_text)\n\u001b[0;32m     <a href='vscode-notebook-cell:/d%3A/Wiktor/hakatony/Supervision-hack-3/scraper/testing.ipynb#W4sZmlsZQ%3D%3D?line=14'>15</a>\u001b[0m year_info \u001b[39m=\u001b[39m re\u001b[39m.\u001b[39msearch(re\u001b[39m.\u001b[39mcompile(\u001b[39mr\u001b[39m\u001b[39m'\u001b[39m\u001b[39m\\\u001b[39m\u001b[39mb20\u001b[39m\u001b[39m\\\u001b[39m\u001b[39md\u001b[39m\u001b[39m{2}\u001b[39;00m\u001b[39m\\\u001b[39m\u001b[39mb\u001b[39m\u001b[39m'\u001b[39m), pdf_text)\n",
      "\u001b[1;31mNameError\u001b[0m: name 'extract_text' is not defined"
     ]
    }
   ],
   "source": [
    "pdf_file_url='https://www.nn.pl/dam/dokumenty/Raporty-finansowe/2022/NN-TUNZ-SFCR-2022.pdf.'\n",
    "company_code = df_insurance_companies.loc[df_insurance_companies['LINK DO STRONY ZAKŁADU'] == 'www.nn.pl', 'KOD LEI ZAKŁADU'].iloc[0]\n",
    "company_name = df_insurance_companies.loc[df_insurance_companies['LINK DO STRONY ZAKŁADU'] == 'www.nn.pl', 'NAZWA ZAKŁADU'].iloc[0]\n",
    "company_url = 'www.nn.pl'\n",
    "destination_dir = '../data/sfcr/'\n",
    "save_scrf_file(pdf_file_url=pdf_file_url, \n",
    "            company_code=company_code, company_name=company_name, \n",
    "            company_url=company_url, destination_dir=destination_dir)"
   ]
  },
  {
   "cell_type": "code",
   "execution_count": 12,
   "metadata": {},
   "outputs": [],
   "source": [
    "response = requests.get(pdf_file_url)"
   ]
  },
  {
   "cell_type": "code",
   "execution_count": null,
   "metadata": {},
   "outputs": [],
   "source": []
  },
  {
   "cell_type": "code",
   "execution_count": 18,
   "metadata": {},
   "outputs": [],
   "source": [
    "pdf_file_url='https://www.nn.pl/dam/dokumenty/Raporty-finansowe/2022/NN-TUNZ-SFCR-2022.pdf.'\n",
    "year_info = re.search(re.compile(r'\\b\\d{4}\\b'), pdf_file_url)\n",
    "year = year_info.group() if year_info is not None else 'unkown'"
   ]
  },
  {
   "cell_type": "code",
   "execution_count": 42,
   "metadata": {},
   "outputs": [],
   "source": [
    "scraped_websites = pd.read_csv('../data/strony.txt', header=None, names = ['scraped_websites'])\n",
    "scraped_websites.drop_duplicates(inplace=True)"
   ]
  },
  {
   "cell_type": "code",
   "execution_count": 45,
   "metadata": {},
   "outputs": [
    {
     "data": {
      "text/html": [
       "<div>\n",
       "<style scoped>\n",
       "    .dataframe tbody tr th:only-of-type {\n",
       "        vertical-align: middle;\n",
       "    }\n",
       "\n",
       "    .dataframe tbody tr th {\n",
       "        vertical-align: top;\n",
       "    }\n",
       "\n",
       "    .dataframe thead th {\n",
       "        text-align: right;\n",
       "    }\n",
       "</style>\n",
       "<table border=\"1\" class=\"dataframe\">\n",
       "  <thead>\n",
       "    <tr style=\"text-align: right;\">\n",
       "      <th></th>\n",
       "      <th>scraped_websites</th>\n",
       "    </tr>\n",
       "  </thead>\n",
       "  <tbody>\n",
       "    <tr>\n",
       "      <th>0</th>\n",
       "      <td>https://www.nn.pl/dam/dokumenty/Raporty-finansowe/2022/NNLife_2022-SFCR-31.03.2023.pdf</td>\n",
       "    </tr>\n",
       "    <tr>\n",
       "      <th>1</th>\n",
       "      <td>https://www.nn.pl/dam/dokumenty/Raporty-finansowe/SFCR-NN-TUNZ-2021.pdf</td>\n",
       "    </tr>\n",
       "    <tr>\n",
       "      <th>2</th>\n",
       "      <td>https://www.nn.pl/dam/dokumenty/Raporty-finansowe/2022/NN-TUn%C5%BB-SA_SzB-SFCR_31122022_PL.pdf</td>\n",
       "    </tr>\n",
       "    <tr>\n",
       "      <th>3</th>\n",
       "      <td>https://www.nn.pl/dam/dokumenty/Raporty-finansowe/2022/NN-TUNZ-SFCR-2022.pdf</td>\n",
       "    </tr>\n",
       "    <tr>\n",
       "      <th>4</th>\n",
       "      <td>https://www.nn.pl/dam/dokumenty/Raporty-finansowe/SFCR-2021-TU-Nationale-Nederlanden.pdf</td>\n",
       "    </tr>\n",
       "    <tr>\n",
       "      <th>5</th>\n",
       "      <td>https://www.nn.pl/dam/jcr:3cb1427d-3829-487e-b197-e0e068829511/Sprawozdanie%20o%20wyp%EF%BF%BDacalno%EF%BF%BDci%20i%20kondycji%20finansowej%20Nationale-Nederlanden%20TUn%EF%BF%BD%20na%20dzie%EF%BF%BD%2031.12.2017.pdf</td>\n",
       "    </tr>\n",
       "    <tr>\n",
       "      <th>6</th>\n",
       "      <td>https://www.nn.pl/dam/dokumenty/Nasze-ubezpieczenia-u-Partnerow/20230103_PA588-C23_owu_rci_BezpiecznyLeasing_9023ST23.pdf</td>\n",
       "    </tr>\n",
       "    <tr>\n",
       "      <th>7</th>\n",
       "      <td>https://www.allianz.pl/content/dam/onemarketing/cee/azpl/dokumenty/o-allianz/tuir/2022-SFCR-TUIR-Sprawozdanie-o-wyplacalnosci-i-kondycji-finansowej.pdf</td>\n",
       "    </tr>\n",
       "    <tr>\n",
       "      <th>8</th>\n",
       "      <td>https://www.allianz.pl/content/dam/onemarketing/cee/azpl/dokumenty/o-allianz/tuir/31-12-2021-SFCR-sprawozdanie-o-wyp%C5%82acalnosci-i-kondycji-finansowej-TUiR.pdf</td>\n",
       "    </tr>\n",
       "    <tr>\n",
       "      <th>9</th>\n",
       "      <td>https://www.allianz.pl/content/dam/onemarketing/cee/azpl/dokumenty/o-allianz/tu-allianz-zycie/TUZ-SFCR_31-12-2021.pdf</td>\n",
       "    </tr>\n",
       "    <tr>\n",
       "      <th>10</th>\n",
       "      <td>https://www.allianz.pl/content/dam/onemarketing/cee/azpl/dokumenty/o-allianz/tu-allianz-zycie/2022-tuz-SFCR-sprawozdanie-o-wyplacalnosci-i-kondycji-finansowej.pdf</td>\n",
       "    </tr>\n",
       "    <tr>\n",
       "      <th>11</th>\n",
       "      <td>https://www.allianz.pl/content/dam/onemarketing/cee/azpl/dokumenty/o-allianz/tuir/TUiR-SFCR-2020.pdf</td>\n",
       "    </tr>\n",
       "    <tr>\n",
       "      <th>12</th>\n",
       "      <td>https://www.allianz.pl/content/dam/onemarketing/cee/azpl/dokumenty/o-allianz/tu-allianz-zycie/TUZ_SFCR_2019.pdf</td>\n",
       "    </tr>\n",
       "    <tr>\n",
       "      <th>13</th>\n",
       "      <td>https://www.allianz.pl/content/dam/onemarketing/cee/azpl/dokumenty/o-allianz/tu-allianz-zycie/2022-tuz-sprawozdanie-z-badania-SFCR.pdf</td>\n",
       "    </tr>\n",
       "    <tr>\n",
       "      <th>14</th>\n",
       "      <td>https://www.allianz.pl/content/dam/onemarketing/cee/azpl/dokumenty/o-allianz/tuir/TUiR_Allianz_Polska_SA_(2018).pdf</td>\n",
       "    </tr>\n",
       "    <tr>\n",
       "      <th>15</th>\n",
       "      <td>https://www.allianz.pl/content/dam/onemarketing/cee/azpl/dokumenty/allianz/o-naszej-firmie/atuz/SFCR-31-12-21-ATUZ.pdf</td>\n",
       "    </tr>\n",
       "    <tr>\n",
       "      <th>16</th>\n",
       "      <td>https://www.allianz.pl/content/dam/onemarketing/cee/azpl/dokumenty/o-allianz/tu-allianz-zycie/TU_Allianz_%C5%BBycie_Polska_SA_(2018).pdf</td>\n",
       "    </tr>\n",
       "    <tr>\n",
       "      <th>26</th>\n",
       "      <td>https://www.allianz.pl/content/dam/onemarketing/cee/azpl/dokumenty/o-allianz/tu-allianz-zycie/TUZsprawozdanie_zbadania_SFCR_2019.pdf</td>\n",
       "    </tr>\n",
       "  </tbody>\n",
       "</table>\n",
       "</div>"
      ],
      "text/plain": [
       "                                                                                                                                                                                                            scraped_websites\n",
       "0                                                                                                                                     https://www.nn.pl/dam/dokumenty/Raporty-finansowe/2022/NNLife_2022-SFCR-31.03.2023.pdf\n",
       "1                                                                                                                                                    https://www.nn.pl/dam/dokumenty/Raporty-finansowe/SFCR-NN-TUNZ-2021.pdf\n",
       "2                                                                                                                            https://www.nn.pl/dam/dokumenty/Raporty-finansowe/2022/NN-TUn%C5%BB-SA_SzB-SFCR_31122022_PL.pdf\n",
       "3                                                                                                                                               https://www.nn.pl/dam/dokumenty/Raporty-finansowe/2022/NN-TUNZ-SFCR-2022.pdf\n",
       "4                                                                                                                                   https://www.nn.pl/dam/dokumenty/Raporty-finansowe/SFCR-2021-TU-Nationale-Nederlanden.pdf\n",
       "5   https://www.nn.pl/dam/jcr:3cb1427d-3829-487e-b197-e0e068829511/Sprawozdanie%20o%20wyp%EF%BF%BDacalno%EF%BF%BDci%20i%20kondycji%20finansowej%20Nationale-Nederlanden%20TUn%EF%BF%BD%20na%20dzie%EF%BF%BD%2031.12.2017.pdf\n",
       "6                                                                                                  https://www.nn.pl/dam/dokumenty/Nasze-ubezpieczenia-u-Partnerow/20230103_PA588-C23_owu_rci_BezpiecznyLeasing_9023ST23.pdf\n",
       "7                                                                    https://www.allianz.pl/content/dam/onemarketing/cee/azpl/dokumenty/o-allianz/tuir/2022-SFCR-TUIR-Sprawozdanie-o-wyplacalnosci-i-kondycji-finansowej.pdf\n",
       "8                                                         https://www.allianz.pl/content/dam/onemarketing/cee/azpl/dokumenty/o-allianz/tuir/31-12-2021-SFCR-sprawozdanie-o-wyp%C5%82acalnosci-i-kondycji-finansowej-TUiR.pdf\n",
       "9                                                                                                      https://www.allianz.pl/content/dam/onemarketing/cee/azpl/dokumenty/o-allianz/tu-allianz-zycie/TUZ-SFCR_31-12-2021.pdf\n",
       "10                                                        https://www.allianz.pl/content/dam/onemarketing/cee/azpl/dokumenty/o-allianz/tu-allianz-zycie/2022-tuz-SFCR-sprawozdanie-o-wyplacalnosci-i-kondycji-finansowej.pdf\n",
       "11                                                                                                                      https://www.allianz.pl/content/dam/onemarketing/cee/azpl/dokumenty/o-allianz/tuir/TUiR-SFCR-2020.pdf\n",
       "12                                                                                                           https://www.allianz.pl/content/dam/onemarketing/cee/azpl/dokumenty/o-allianz/tu-allianz-zycie/TUZ_SFCR_2019.pdf\n",
       "13                                                                                    https://www.allianz.pl/content/dam/onemarketing/cee/azpl/dokumenty/o-allianz/tu-allianz-zycie/2022-tuz-sprawozdanie-z-badania-SFCR.pdf\n",
       "14                                                                                                       https://www.allianz.pl/content/dam/onemarketing/cee/azpl/dokumenty/o-allianz/tuir/TUiR_Allianz_Polska_SA_(2018).pdf\n",
       "15                                                                                                    https://www.allianz.pl/content/dam/onemarketing/cee/azpl/dokumenty/allianz/o-naszej-firmie/atuz/SFCR-31-12-21-ATUZ.pdf\n",
       "16                                                                                  https://www.allianz.pl/content/dam/onemarketing/cee/azpl/dokumenty/o-allianz/tu-allianz-zycie/TU_Allianz_%C5%BBycie_Polska_SA_(2018).pdf\n",
       "26                                                                                      https://www.allianz.pl/content/dam/onemarketing/cee/azpl/dokumenty/o-allianz/tu-allianz-zycie/TUZsprawozdanie_zbadania_SFCR_2019.pdf"
      ]
     },
     "execution_count": 45,
     "metadata": {},
     "output_type": "execute_result"
    }
   ],
   "source": [
    "for website in scraped_websites['scraped_websites']:\n",
    "    save_scrf_file(website)"
   ]
  },
  {
   "cell_type": "code",
   "execution_count": null,
   "metadata": {},
   "outputs": [],
   "source": []
  }
 ],
 "metadata": {
  "kernelspec": {
   "display_name": "venv",
   "language": "python",
   "name": "python3"
  },
  "language_info": {
   "codemirror_mode": {
    "name": "ipython",
    "version": 3
   },
   "file_extension": ".py",
   "mimetype": "text/x-python",
   "name": "python",
   "nbconvert_exporter": "python",
   "pygments_lexer": "ipython3",
   "version": "3.10.10"
  }
 },
 "nbformat": 4,
 "nbformat_minor": 2
}
